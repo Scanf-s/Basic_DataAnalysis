{
 "cells": [
  {
   "metadata": {},
   "cell_type": "markdown",
   "source": [
    "# 고척도서관 장서 대출목록 (2024년 12월)\n",
    "\n",
    "- 데이터 제공자 : 고척도서관\n",
    "- 데이터 출처 : 도서관 정보나루\n",
    "- 포맷 : csv"
   ],
   "id": "8a77807f92f26ee"
  },
  {
   "metadata": {
    "ExecuteTime": {
     "end_time": "2025-01-05T08:41:42.422098Z",
     "start_time": "2025-01-05T08:41:42.415254Z"
    }
   },
   "cell_type": "code",
   "source": [
    "# 파일을 사용하고, 자동으로 파일 포인터 리소스를 정리할 수 있도록 with 사용\n",
    "# open 내장함수를 사용해서 파일을 열 수 있다\n",
    "# 고척도서관 csv파일은 euc-kr 코덱이므로, encoding에 지정해줘야 정상적으로 열림\n",
    "with open(file='./data/gocheok_lib_data.csv', mode='r', encoding='euc-kr') as f:\n",
    "    data = f.readline()\n",
    "\n",
    "# 파일포인터는 열었을 때, 맨 위 맨 앞글자를 가리키므로 readline()을 했을 때 각 열의 속성명들이 출력된다\n",
    "print(data)"
   ],
   "id": "fbc121e30a2defb3",
   "outputs": [
    {
     "name": "stdout",
     "output_type": "stream",
     "text": [
      "번호,도서명,저자,출판사,발행년도,ISBN,세트 ISBN,부가기호,권,주제분류번호,도서권수,대출건수,등록일자,\n",
      "\n"
     ]
    }
   ],
   "execution_count": 12
  },
  {
   "metadata": {},
   "cell_type": "markdown",
   "source": "# Pandas 라이브러리 사용해서 dataframe으로 깔끔하게 보기",
   "id": "ab6eb163b296d647"
  },
  {
   "metadata": {
    "ExecuteTime": {
     "end_time": "2025-01-05T09:02:06.293842Z",
     "start_time": "2025-01-05T09:02:05.557065Z"
    }
   },
   "cell_type": "code",
   "source": [
    "import pandas as pd\n",
    "df = pd.read_csv(filepath_or_buffer='./data/gocheok_lib_data.csv', encoding='euc-kr',\n",
    "                 dtype={'ISBN': str, '부가기호': str, '주제분류번호': str})\n",
    "# 만약 read_csv의 인자인 low_memory를 False로 설정한다면, 싹다 한번에 불러온다.\n",
    "# 데이터 용량이 작은 경우에는 딱히 문제가 되지는 않지만, 데이터가 대용량인 경우 문제가 발생하므로 가급적 사용을\n",
    "# 지양하는것이 좋을 것 같다.\n",
    "# 그리고, dtype을 지정하지 않고 csv를 열어보면\n",
    "# 5, 7, 9번째 열에 대한 dtype을 지정하거나 low_memory=False를 사용하라고 했는데,\n",
    "# 5, 7, 9번째 열에 대한 dtype을 지정해주었다.\n",
    "\n",
    "df.head() # 데이터 상위 5행 출력"
   ],
   "id": "69893768029bd9cb",
   "outputs": [
    {
     "data": {
      "text/plain": [
       "   번호                     도서명                              저자     출판사  발행년도  \\\n",
       "0   1  (바로미와 함께하는) 좌충우돌 재판이야기   글: 서울교육대학교 법교육연구소;그림: 극동만화연구소  사법발전재단  2004   \n",
       "1   2  (바로미와 함께하는) 좌충우돌 재판이야기    서울교육대학교 법교육연구소 글 ;극동만화연구소 그림  사법발전재단  2024   \n",
       "2   3  (바로미와 함께하는) 좌충우돌 재판이야기    서울교육대학교 법교육연구소 글 ;극동만화연구소 그림  사법발전재단  2024   \n",
       "3   4  (바로미와 함께하는) 좌충우돌 재판이야기  글: 서울교육대학교 법교육연구소 ;그림: 극동만화연구소  사법발전재단  2024   \n",
       "4   5  (바로미와 함께하는) 좌충우돌 재판이야기  글: 서울교육대학교 법교육연구소 ;그림: 극동만화연구소  사법발전재단  2024   \n",
       "\n",
       "            ISBN  세트 ISBN 부가기호  권 주제분류번호  도서권수  대출건수        등록일자  Unnamed: 13  \n",
       "0  9791160861150      NaN    7  1    367     1     1  2024-12-17          NaN  \n",
       "1  9791160861204      NaN    7  6  367.1     1     1  2024-12-17          NaN  \n",
       "2  9791160861198      NaN    7  5  367.1     1     1  2024-12-17          NaN  \n",
       "3  9791160861181      NaN    7  4  367.1     1     1  2024-12-17          NaN  \n",
       "4  9791160861174      NaN    7  3  367.1     1     1  2024-12-17          NaN  "
      ],
      "text/html": [
       "<div>\n",
       "<style scoped>\n",
       "    .dataframe tbody tr th:only-of-type {\n",
       "        vertical-align: middle;\n",
       "    }\n",
       "\n",
       "    .dataframe tbody tr th {\n",
       "        vertical-align: top;\n",
       "    }\n",
       "\n",
       "    .dataframe thead th {\n",
       "        text-align: right;\n",
       "    }\n",
       "</style>\n",
       "<table border=\"1\" class=\"dataframe\">\n",
       "  <thead>\n",
       "    <tr style=\"text-align: right;\">\n",
       "      <th></th>\n",
       "      <th>번호</th>\n",
       "      <th>도서명</th>\n",
       "      <th>저자</th>\n",
       "      <th>출판사</th>\n",
       "      <th>발행년도</th>\n",
       "      <th>ISBN</th>\n",
       "      <th>세트 ISBN</th>\n",
       "      <th>부가기호</th>\n",
       "      <th>권</th>\n",
       "      <th>주제분류번호</th>\n",
       "      <th>도서권수</th>\n",
       "      <th>대출건수</th>\n",
       "      <th>등록일자</th>\n",
       "      <th>Unnamed: 13</th>\n",
       "    </tr>\n",
       "  </thead>\n",
       "  <tbody>\n",
       "    <tr>\n",
       "      <th>0</th>\n",
       "      <td>1</td>\n",
       "      <td>(바로미와 함께하는) 좌충우돌 재판이야기</td>\n",
       "      <td>글: 서울교육대학교 법교육연구소;그림: 극동만화연구소</td>\n",
       "      <td>사법발전재단</td>\n",
       "      <td>2004</td>\n",
       "      <td>9791160861150</td>\n",
       "      <td>NaN</td>\n",
       "      <td>7</td>\n",
       "      <td>1</td>\n",
       "      <td>367</td>\n",
       "      <td>1</td>\n",
       "      <td>1</td>\n",
       "      <td>2024-12-17</td>\n",
       "      <td>NaN</td>\n",
       "    </tr>\n",
       "    <tr>\n",
       "      <th>1</th>\n",
       "      <td>2</td>\n",
       "      <td>(바로미와 함께하는) 좌충우돌 재판이야기</td>\n",
       "      <td>서울교육대학교 법교육연구소 글 ;극동만화연구소 그림</td>\n",
       "      <td>사법발전재단</td>\n",
       "      <td>2024</td>\n",
       "      <td>9791160861204</td>\n",
       "      <td>NaN</td>\n",
       "      <td>7</td>\n",
       "      <td>6</td>\n",
       "      <td>367.1</td>\n",
       "      <td>1</td>\n",
       "      <td>1</td>\n",
       "      <td>2024-12-17</td>\n",
       "      <td>NaN</td>\n",
       "    </tr>\n",
       "    <tr>\n",
       "      <th>2</th>\n",
       "      <td>3</td>\n",
       "      <td>(바로미와 함께하는) 좌충우돌 재판이야기</td>\n",
       "      <td>서울교육대학교 법교육연구소 글 ;극동만화연구소 그림</td>\n",
       "      <td>사법발전재단</td>\n",
       "      <td>2024</td>\n",
       "      <td>9791160861198</td>\n",
       "      <td>NaN</td>\n",
       "      <td>7</td>\n",
       "      <td>5</td>\n",
       "      <td>367.1</td>\n",
       "      <td>1</td>\n",
       "      <td>1</td>\n",
       "      <td>2024-12-17</td>\n",
       "      <td>NaN</td>\n",
       "    </tr>\n",
       "    <tr>\n",
       "      <th>3</th>\n",
       "      <td>4</td>\n",
       "      <td>(바로미와 함께하는) 좌충우돌 재판이야기</td>\n",
       "      <td>글: 서울교육대학교 법교육연구소 ;그림: 극동만화연구소</td>\n",
       "      <td>사법발전재단</td>\n",
       "      <td>2024</td>\n",
       "      <td>9791160861181</td>\n",
       "      <td>NaN</td>\n",
       "      <td>7</td>\n",
       "      <td>4</td>\n",
       "      <td>367.1</td>\n",
       "      <td>1</td>\n",
       "      <td>1</td>\n",
       "      <td>2024-12-17</td>\n",
       "      <td>NaN</td>\n",
       "    </tr>\n",
       "    <tr>\n",
       "      <th>4</th>\n",
       "      <td>5</td>\n",
       "      <td>(바로미와 함께하는) 좌충우돌 재판이야기</td>\n",
       "      <td>글: 서울교육대학교 법교육연구소 ;그림: 극동만화연구소</td>\n",
       "      <td>사법발전재단</td>\n",
       "      <td>2024</td>\n",
       "      <td>9791160861174</td>\n",
       "      <td>NaN</td>\n",
       "      <td>7</td>\n",
       "      <td>3</td>\n",
       "      <td>367.1</td>\n",
       "      <td>1</td>\n",
       "      <td>1</td>\n",
       "      <td>2024-12-17</td>\n",
       "      <td>NaN</td>\n",
       "    </tr>\n",
       "  </tbody>\n",
       "</table>\n",
       "</div>"
      ]
     },
     "execution_count": 16,
     "metadata": {},
     "output_type": "execute_result"
    }
   ],
   "execution_count": 16
  },
  {
   "metadata": {
    "ExecuteTime": {
     "end_time": "2025-01-05T09:02:13.716133Z",
     "start_time": "2025-01-05T09:02:12.778869Z"
    }
   },
   "cell_type": "code",
   "source": [
    "# df에 저장된 데이터를 gocheok_lib_data_2.csv로 저장\n",
    "df.to_csv(path_or_buf='./data/gocheok_lib_data_2.csv', encoding='euc-kr')"
   ],
   "id": "3db1e3f38db53561",
   "outputs": [],
   "execution_count": 17
  }
 ],
 "metadata": {
  "kernelspec": {
   "display_name": "Python 3",
   "language": "python",
   "name": "python3"
  },
  "language_info": {
   "codemirror_mode": {
    "name": "ipython",
    "version": 2
   },
   "file_extension": ".py",
   "mimetype": "text/x-python",
   "name": "python",
   "nbconvert_exporter": "python",
   "pygments_lexer": "ipython2",
   "version": "2.7.6"
  }
 },
 "nbformat": 4,
 "nbformat_minor": 5
}
