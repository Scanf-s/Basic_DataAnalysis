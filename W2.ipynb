{
 "cells": [
  {
   "cell_type": "code",
   "id": "initial_id",
   "metadata": {
    "collapsed": true,
    "ExecuteTime": {
     "end_time": "2025-01-14T07:42:10.699031Z",
     "start_time": "2025-01-14T07:42:10.696835Z"
    }
   },
   "source": [
    "import json\n",
    "\n",
    "data = {\n",
    "    \"message\": \"success\"\n",
    "}\n",
    "\n",
    "serialized = json.dumps(data) # 직렬화\n",
    "print(serialized)"
   ],
   "outputs": [
    {
     "name": "stdout",
     "output_type": "stream",
     "text": [
      "{\"message\": \"success\"}\n"
     ]
    }
   ],
   "execution_count": 2
  },
  {
   "metadata": {
    "ExecuteTime": {
     "end_time": "2025-01-14T07:42:53.159845Z",
     "start_time": "2025-01-14T07:42:53.156473Z"
    }
   },
   "cell_type": "code",
   "source": [
    "data = json.loads(serialized) # 역직렬화\n",
    "print(data)"
   ],
   "id": "cf30f8d1953447",
   "outputs": [
    {
     "name": "stdout",
     "output_type": "stream",
     "text": [
      "<class 'str'>\n",
      "{'message': 'success'}\n"
     ]
    }
   ],
   "execution_count": 3
  },
  {
   "metadata": {
    "ExecuteTime": {
     "end_time": "2025-01-14T07:47:27.701586Z",
     "start_time": "2025-01-14T07:47:27.698809Z"
    }
   },
   "cell_type": "code",
   "source": [
    "book_data: str = \"\"\"\n",
    "[\n",
    "    {\"name\": \"혼자 공부하는 데이터분석\", \"author\": \"박해선\", \"year\": 2022},\n",
    "    {\"name\": \"혼자 공부하는 머신러닝+딥러닝\", \"author\": \"박해선\", \"year\": 2020}\n",
    "]\n",
    "\"\"\"\n",
    "deserialized = json.loads(book_data)\n",
    "print(deserialized[1][\"year\"])"
   ],
   "id": "88195f20ee7a6263",
   "outputs": [
    {
     "name": "stdout",
     "output_type": "stream",
     "text": [
      "2020\n"
     ]
    }
   ],
   "execution_count": 5
  },
  {
   "metadata": {
    "ExecuteTime": {
     "end_time": "2025-01-14T07:50:12.838758Z",
     "start_time": "2025-01-14T07:50:12.829841Z"
    }
   },
   "cell_type": "code",
   "source": [
    "import pandas as pd\n",
    "import io\n",
    "\n",
    "# 25.01.14 기준 read_json이 deprecated 될 예정이라고 뜬다\n",
    "# 해결하기 위해서는 import io -> io.StringIO로 json을 감싸야함\n",
    "pd.read_json(io.StringIO(book_data)) # pandas 데이터프레임으로 json 데이터를 자동으로 역직렬화\n"
   ],
   "id": "d313806252c9e3f9",
   "outputs": [
    {
     "data": {
      "text/plain": [
       "               name author  year\n",
       "0     혼자 공부하는 데이터분석    박해선  2022\n",
       "1  혼자 공부하는 머신러닝+딥러닝    박해선  2020"
      ],
      "text/html": [
       "<div>\n",
       "<style scoped>\n",
       "    .dataframe tbody tr th:only-of-type {\n",
       "        vertical-align: middle;\n",
       "    }\n",
       "\n",
       "    .dataframe tbody tr th {\n",
       "        vertical-align: top;\n",
       "    }\n",
       "\n",
       "    .dataframe thead th {\n",
       "        text-align: right;\n",
       "    }\n",
       "</style>\n",
       "<table border=\"1\" class=\"dataframe\">\n",
       "  <thead>\n",
       "    <tr style=\"text-align: right;\">\n",
       "      <th></th>\n",
       "      <th>name</th>\n",
       "      <th>author</th>\n",
       "      <th>year</th>\n",
       "    </tr>\n",
       "  </thead>\n",
       "  <tbody>\n",
       "    <tr>\n",
       "      <th>0</th>\n",
       "      <td>혼자 공부하는 데이터분석</td>\n",
       "      <td>박해선</td>\n",
       "      <td>2022</td>\n",
       "    </tr>\n",
       "    <tr>\n",
       "      <th>1</th>\n",
       "      <td>혼자 공부하는 머신러닝+딥러닝</td>\n",
       "      <td>박해선</td>\n",
       "      <td>2020</td>\n",
       "    </tr>\n",
       "  </tbody>\n",
       "</table>\n",
       "</div>"
      ]
     },
     "execution_count": 7,
     "metadata": {},
     "output_type": "execute_result"
    }
   ],
   "execution_count": 7
  },
  {
   "metadata": {
    "ExecuteTime": {
     "end_time": "2025-01-14T07:52:13.682610Z",
     "start_time": "2025-01-14T07:52:13.676163Z"
    }
   },
   "cell_type": "code",
   "source": [
    "xml_str = \"\"\"\n",
    "<book>\n",
    "    <name>혼자 공부하는 데이터분석</name>\n",
    "    <author>박해선</author>\n",
    "    <year>2022</year>\n",
    "</book>\n",
    "\"\"\"\n",
    "\n",
    "import xml.etree.ElementTree as et\n",
    "book = et.fromstring(xml_str) # x_str xml 문자열을 실제 XML로 변환 (직렬화)\n",
    "print(type(book)) # 타입 조회\n",
    "print(book.tag) # 최상위 Element 조회"
   ],
   "id": "5ddf9494833bdec0",
   "outputs": [
    {
     "name": "stdout",
     "output_type": "stream",
     "text": [
      "<class 'xml.etree.ElementTree.Element'>\n",
      "book\n"
     ]
    }
   ],
   "execution_count": 8
  },
  {
   "metadata": {
    "ExecuteTime": {
     "end_time": "2025-01-14T07:54:46.578227Z",
     "start_time": "2025-01-14T07:54:46.575650Z"
    }
   },
   "cell_type": "code",
   "source": [
    "# 자식 Element 조회 시\n",
    "book_childs = list(book)\n",
    "print(*book_childs)\n",
    "\n",
    "for child in book_childs:\n",
    "    print(child.tag + \" : \" + child.text)\n"
   ],
   "id": "50b439c56fb8bf66",
   "outputs": [
    {
     "name": "stdout",
     "output_type": "stream",
     "text": [
      "<Element 'name' at 0x716ef7f4ddf0> <Element 'author' at 0x716ef7f4de40> <Element 'year' at 0x716ef7f4dee0>\n",
      "name : 혼자 공부하는 데이터분석\n",
      "author : 박해선\n",
      "year : 2022\n"
     ]
    }
   ],
   "execution_count": 12
  },
  {
   "metadata": {
    "ExecuteTime": {
     "end_time": "2025-01-14T07:56:36.418617Z",
     "start_time": "2025-01-14T07:56:36.414857Z"
    }
   },
   "cell_type": "code",
   "source": [
    "xml_str = \"\"\"\n",
    "<books>\n",
    "    <book>\n",
    "        <name>혼자 공부하는 데이터분석</name>\n",
    "        <author>박해선</author>\n",
    "        <year>2022</year>\n",
    "    </book>\n",
    "    <book>\n",
    "        <name>혼자 공부하는 머신러닝+딥러닝</name>\n",
    "        <author>박해선</author>\n",
    "        <year>2022</year>\n",
    "    </book>\n",
    "</books>\n",
    "\"\"\"\n",
    "books = et.fromstring(xml_str)\n",
    "print(books.tag) # 최상위 Element"
   ],
   "id": "2767225df1392a52",
   "outputs": [
    {
     "name": "stdout",
     "output_type": "stream",
     "text": [
      "books\n"
     ]
    }
   ],
   "execution_count": 13
  },
  {
   "metadata": {
    "ExecuteTime": {
     "end_time": "2025-01-14T07:57:51.033377Z",
     "start_time": "2025-01-14T07:57:51.030078Z"
    }
   },
   "cell_type": "code",
   "source": [
    "for book in books.findall('book'): # 여러개의 자식 Element 조회 시\n",
    "    for element in book:\n",
    "        print(element.tag + \" : \" +element.text)"
   ],
   "id": "8eb217c6bf6d6a55",
   "outputs": [
    {
     "name": "stdout",
     "output_type": "stream",
     "text": [
      "name : 혼자 공부하는 데이터분석\n",
      "author : 박해선\n",
      "year : 2022\n",
      "name : 혼자 공부하는 머신러닝+딥러닝\n",
      "author : 박해선\n",
      "year : 2022\n"
     ]
    }
   ],
   "execution_count": 15
  },
  {
   "metadata": {},
   "cell_type": "markdown",
   "source": "# 도서관 정보나루 인기대출도서 API 사용하기 (with requests, asyncio, aiohttp)",
   "id": "c118dc979fd7b081"
  },
  {
   "metadata": {
    "ExecuteTime": {
     "end_time": "2025-01-14T08:12:16.159284Z",
     "start_time": "2025-01-14T08:12:16.156770Z"
    }
   },
   "cell_type": "code",
   "source": [
    "# 1. Requests 라이브러리를 사용해서 API를 호출하는 방법\n",
    "API_KEY = \"YOUR_API_KEY\"\n",
    "import requests\n",
    "\n",
    "response = requests.get(\n",
    "    url=\"\",\n",
    "    params={\n",
    "        \"authKey\":f\"{API_KEY}\",\n",
    "        \"startDt\":\"2025-01-01\",\n",
    "        \"endDt\":\"2025-01-14\"\n",
    "    }\n",
    ")\n",
    "if response.status_code == \"200\":\n",
    "    print(response.json())\n",
    "else:\n",
    "    print(\"error!!\")"
   ],
   "id": "f5395f9cbe3f7180",
   "outputs": [
    {
     "ename": "SyntaxError",
     "evalue": "invalid syntax (391142090.py, line 2)",
     "output_type": "error",
     "traceback": [
      "\u001B[0;36m  Cell \u001B[0;32mIn[16], line 2\u001B[0;36m\u001B[0m\n\u001B[0;31m    API_KEY = YOUR_API_KEY\"\"\u001B[0m\n\u001B[0m                          ^\u001B[0m\n\u001B[0;31mSyntaxError\u001B[0m\u001B[0;31m:\u001B[0m invalid syntax\n"
     ]
    }
   ],
   "execution_count": 16
  },
  {
   "metadata": {},
   "cell_type": "code",
   "outputs": [],
   "execution_count": null,
   "source": "",
   "id": "6000680ea896d668"
  }
 ],
 "metadata": {
  "kernelspec": {
   "display_name": "Python 3",
   "language": "python",
   "name": "python3"
  },
  "language_info": {
   "codemirror_mode": {
    "name": "ipython",
    "version": 2
   },
   "file_extension": ".py",
   "mimetype": "text/x-python",
   "name": "python",
   "nbconvert_exporter": "python",
   "pygments_lexer": "ipython2",
   "version": "2.7.6"
  }
 },
 "nbformat": 4,
 "nbformat_minor": 5
}
